{
 "cells": [
  {
   "cell_type": "markdown",
   "id": "16a7925b-5eb7-4084-acf4-71312dcd462a",
   "metadata": {},
   "source": [
    "# Capítulo 1"
   ]
  },
  {
   "cell_type": "code",
   "execution_count": 1,
   "id": "35588f9e-a18c-41a8-a64b-e9953198dbd7",
   "metadata": {},
   "outputs": [],
   "source": [
    "from spacy.lang.pt import Portuguese"
   ]
  },
  {
   "cell_type": "code",
   "execution_count": 2,
   "id": "a33205a0-530e-4386-80c0-9f05e5f70631",
   "metadata": {},
   "outputs": [],
   "source": [
    "nlp = Portuguese()"
   ]
  },
  {
   "cell_type": "markdown",
   "id": "4f7136db-9c45-45ab-8b1b-6653f1c4e223",
   "metadata": {},
   "source": [
    "## O objeto 'doc' é um documento que contém o texto e outras características dos tokens."
   ]
  },
  {
   "cell_type": "code",
   "execution_count": 3,
   "id": "65d7033c-533b-49b8-83d3-6e15aa09b7e1",
   "metadata": {
    "tags": []
   },
   "outputs": [
    {
     "name": "stdout",
     "output_type": "stream",
     "text": [
      "Olá\n",
      "Mundo\n",
      "!\n"
     ]
    }
   ],
   "source": [
    "doc = nlp('Olá Mundo!')\n",
    "for token in doc:\n",
    "    print(token)"
   ]
  },
  {
   "cell_type": "markdown",
   "id": "1d00495b-7834-4dce-9ae7-67b41dfbb4b9",
   "metadata": {},
   "source": [
    "## O objeto 'span' é uma partição de 'doc' que contém um ou mais tokens."
   ]
  },
  {
   "cell_type": "code",
   "execution_count": 4,
   "id": "3da4efaf-e857-447b-bff9-aebb3673049e",
   "metadata": {},
   "outputs": [
    {
     "data": {
      "text/plain": [
       "'Mundo!'"
      ]
     },
     "execution_count": 4,
     "metadata": {},
     "output_type": "execute_result"
    }
   ],
   "source": [
    "span = doc[1:3]\n",
    "span.text"
   ]
  },
  {
   "cell_type": "markdown",
   "id": "9e60061f-0119-4e2f-b8df-1e5896c2c1a4",
   "metadata": {},
   "source": [
    "## Atributos léxicos"
   ]
  },
  {
   "cell_type": "code",
   "execution_count": 7,
   "id": "c28fcbf5-a5d3-48d0-8503-eb8968517aee",
   "metadata": {},
   "outputs": [
    {
     "name": "stdout",
     "output_type": "stream",
     "text": [
      "Índice: [0, 1, 2, 3, 4]\n",
      "Texto: ['Isso', 'custa', 'R$', '5', '.']\n",
      "É palavra? [True, True, False, False, False]\n",
      "É pontuação? [False, False, False, False, True]\n",
      "É número? [False, False, False, True, False]\n"
     ]
    }
   ],
   "source": [
    "doc = nlp('Isso custa R$5.')\n",
    "print('Índice:', [token.i for token in doc])\n",
    "print('Texto:', [token.text for token in doc])\n",
    "print('É palavra?', [token.is_alpha for token in doc])\n",
    "print('É pontuação?' , [token.is_punct for token in doc])\n",
    "print('É número?', [token.like_num for token in doc])"
   ]
  }
 ],
 "metadata": {
  "kernelspec": {
   "display_name": "Python 3 (ipykernel)",
   "language": "python",
   "name": "python3"
  },
  "language_info": {
   "codemirror_mode": {
    "name": "ipython",
    "version": 3
   },
   "file_extension": ".py",
   "mimetype": "text/x-python",
   "name": "python",
   "nbconvert_exporter": "python",
   "pygments_lexer": "ipython3",
   "version": "3.8.11"
  }
 },
 "nbformat": 4,
 "nbformat_minor": 5
}
