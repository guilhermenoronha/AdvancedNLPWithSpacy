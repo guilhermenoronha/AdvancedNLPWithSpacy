{
 "cells": [
  {
   "cell_type": "markdown",
   "id": "16a7925b-5eb7-4084-acf4-71312dcd462a",
   "metadata": {},
   "source": [
    "# Capítulo 1"
   ]
  },
  {
   "cell_type": "code",
   "execution_count": 1,
   "id": "646a73c3-46bd-4b09-8f80-feabb2f0be5d",
   "metadata": {},
   "outputs": [
    {
     "name": "stdout",
     "output_type": "stream",
     "text": [
      "Collecting pt_core_news_sm==2.3.0\n",
      "  Downloading https://github.com/explosion/spacy-models/releases/download/pt_core_news_sm-2.3.0/pt_core_news_sm-2.3.0.tar.gz (19.6 MB)\n",
      "\u001b[K     |████████████████████████████████| 19.6 MB 4.5 MB/s eta 0:00:01    |████████                        | 4.9 MB 221 kB/s eta 0:01:06\n",
      "\u001b[?25hRequirement already satisfied: spacy<2.4.0,>=2.3.0 in /home/guilherme/anaconda3/envs/AdvancedNPLWithSpacy/lib/python3.8/site-packages (from pt_core_news_sm==2.3.0) (2.3.5)\n",
      "Requirement already satisfied: tqdm<5.0.0,>=4.38.0 in /home/guilherme/anaconda3/envs/AdvancedNPLWithSpacy/lib/python3.8/site-packages (from spacy<2.4.0,>=2.3.0->pt_core_news_sm==2.3.0) (4.62.1)\n",
      "Requirement already satisfied: cymem<2.1.0,>=2.0.2 in /home/guilherme/anaconda3/envs/AdvancedNPLWithSpacy/lib/python3.8/site-packages (from spacy<2.4.0,>=2.3.0->pt_core_news_sm==2.3.0) (2.0.5)\n",
      "Requirement already satisfied: setuptools in /home/guilherme/anaconda3/envs/AdvancedNPLWithSpacy/lib/python3.8/site-packages (from spacy<2.4.0,>=2.3.0->pt_core_news_sm==2.3.0) (52.0.0.post20210125)\n",
      "Requirement already satisfied: thinc<7.5.0,>=7.4.1 in /home/guilherme/anaconda3/envs/AdvancedNPLWithSpacy/lib/python3.8/site-packages (from spacy<2.4.0,>=2.3.0->pt_core_news_sm==2.3.0) (7.4.5)\n",
      "Requirement already satisfied: numpy>=1.15.0 in /home/guilherme/anaconda3/envs/AdvancedNPLWithSpacy/lib/python3.8/site-packages (from spacy<2.4.0,>=2.3.0->pt_core_news_sm==2.3.0) (1.20.3)\n",
      "Requirement already satisfied: blis<0.8.0,>=0.4.0 in /home/guilherme/anaconda3/envs/AdvancedNPLWithSpacy/lib/python3.8/site-packages (from spacy<2.4.0,>=2.3.0->pt_core_news_sm==2.3.0) (0.7.4)\n",
      "Requirement already satisfied: plac<1.2.0,>=0.9.6 in /home/guilherme/anaconda3/envs/AdvancedNPLWithSpacy/lib/python3.8/site-packages (from spacy<2.4.0,>=2.3.0->pt_core_news_sm==2.3.0) (1.1.0)\n",
      "Requirement already satisfied: wasabi<1.1.0,>=0.4.0 in /home/guilherme/anaconda3/envs/AdvancedNPLWithSpacy/lib/python3.8/site-packages (from spacy<2.4.0,>=2.3.0->pt_core_news_sm==2.3.0) (0.8.2)\n",
      "Requirement already satisfied: requests<3.0.0,>=2.13.0 in /home/guilherme/anaconda3/envs/AdvancedNPLWithSpacy/lib/python3.8/site-packages (from spacy<2.4.0,>=2.3.0->pt_core_news_sm==2.3.0) (2.26.0)\n",
      "Requirement already satisfied: preshed<3.1.0,>=3.0.2 in /home/guilherme/anaconda3/envs/AdvancedNPLWithSpacy/lib/python3.8/site-packages (from spacy<2.4.0,>=2.3.0->pt_core_news_sm==2.3.0) (3.0.5)\n",
      "Requirement already satisfied: catalogue<1.1.0,>=0.0.7 in /home/guilherme/anaconda3/envs/AdvancedNPLWithSpacy/lib/python3.8/site-packages (from spacy<2.4.0,>=2.3.0->pt_core_news_sm==2.3.0) (1.0.0)\n",
      "Requirement already satisfied: srsly<1.1.0,>=1.0.2 in /home/guilherme/anaconda3/envs/AdvancedNPLWithSpacy/lib/python3.8/site-packages (from spacy<2.4.0,>=2.3.0->pt_core_news_sm==2.3.0) (1.0.5)\n",
      "Requirement already satisfied: murmurhash<1.1.0,>=0.28.0 in /home/guilherme/anaconda3/envs/AdvancedNPLWithSpacy/lib/python3.8/site-packages (from spacy<2.4.0,>=2.3.0->pt_core_news_sm==2.3.0) (1.0.5)\n",
      "Requirement already satisfied: urllib3<1.27,>=1.21.1 in /home/guilherme/anaconda3/envs/AdvancedNPLWithSpacy/lib/python3.8/site-packages (from requests<3.0.0,>=2.13.0->spacy<2.4.0,>=2.3.0->pt_core_news_sm==2.3.0) (1.26.6)\n",
      "Requirement already satisfied: certifi>=2017.4.17 in /home/guilherme/anaconda3/envs/AdvancedNPLWithSpacy/lib/python3.8/site-packages (from requests<3.0.0,>=2.13.0->spacy<2.4.0,>=2.3.0->pt_core_news_sm==2.3.0) (2021.5.30)\n",
      "Requirement already satisfied: charset-normalizer~=2.0.0 in /home/guilherme/anaconda3/envs/AdvancedNPLWithSpacy/lib/python3.8/site-packages (from requests<3.0.0,>=2.13.0->spacy<2.4.0,>=2.3.0->pt_core_news_sm==2.3.0) (2.0.4)\n",
      "Requirement already satisfied: idna<4,>=2.5 in /home/guilherme/anaconda3/envs/AdvancedNPLWithSpacy/lib/python3.8/site-packages (from requests<3.0.0,>=2.13.0->spacy<2.4.0,>=2.3.0->pt_core_news_sm==2.3.0) (3.2)\n",
      "\u001b[38;5;2m✔ Download and installation successful\u001b[0m\n",
      "You can now load the model via spacy.load('pt_core_news_sm')\n"
     ]
    }
   ],
   "source": [
    "!python -m spacy download pt_core_news_sm"
   ]
  },
  {
   "cell_type": "code",
   "execution_count": 2,
   "id": "35588f9e-a18c-41a8-a64b-e9953198dbd7",
   "metadata": {},
   "outputs": [],
   "source": [
    "from spacy.lang.pt import Portuguese\n",
    "from spacy.matcher import Matcher\n",
    "import pt_core_news_sm\n",
    "import spacy"
   ]
  },
  {
   "cell_type": "code",
   "execution_count": 3,
   "id": "a33205a0-530e-4386-80c0-9f05e5f70631",
   "metadata": {},
   "outputs": [],
   "source": [
    "nlp = Portuguese()"
   ]
  },
  {
   "cell_type": "markdown",
   "id": "4f7136db-9c45-45ab-8b1b-6653f1c4e223",
   "metadata": {},
   "source": [
    "## O objeto 'doc' é um documento que contém o texto e outras características dos tokens."
   ]
  },
  {
   "cell_type": "code",
   "execution_count": 4,
   "id": "65d7033c-533b-49b8-83d3-6e15aa09b7e1",
   "metadata": {
    "tags": []
   },
   "outputs": [
    {
     "name": "stdout",
     "output_type": "stream",
     "text": [
      "Olá\n",
      "Mundo\n",
      "!\n"
     ]
    }
   ],
   "source": [
    "doc = nlp('Olá Mundo!')\n",
    "for token in doc:\n",
    "    print(token)"
   ]
  },
  {
   "cell_type": "markdown",
   "id": "1d00495b-7834-4dce-9ae7-67b41dfbb4b9",
   "metadata": {},
   "source": [
    "## O objeto 'span' é uma partição de 'doc' que contém um ou mais tokens."
   ]
  },
  {
   "cell_type": "code",
   "execution_count": 5,
   "id": "3da4efaf-e857-447b-bff9-aebb3673049e",
   "metadata": {},
   "outputs": [
    {
     "data": {
      "text/plain": [
       "'Mundo!'"
      ]
     },
     "execution_count": 5,
     "metadata": {},
     "output_type": "execute_result"
    }
   ],
   "source": [
    "span = doc[1:3]\n",
    "span.text"
   ]
  },
  {
   "cell_type": "markdown",
   "id": "9e60061f-0119-4e2f-b8df-1e5896c2c1a4",
   "metadata": {},
   "source": [
    "## Atributos léxicos"
   ]
  },
  {
   "cell_type": "code",
   "execution_count": 6,
   "id": "c28fcbf5-a5d3-48d0-8503-eb8968517aee",
   "metadata": {},
   "outputs": [
    {
     "name": "stdout",
     "output_type": "stream",
     "text": [
      "Índice: [0, 1, 2, 3, 4, 5, 6, 7, 8, 9]\n",
      "Texto: ['Isso', 'custa', 'R$', '5', 'com', '10', '%', 'de', 'desconto', '.']\n",
      "É palavra? [True, True, False, False, True, False, False, True, True, False]\n",
      "É pontuação? [False, False, False, False, False, False, True, False, False, True]\n",
      "É número? [False, False, False, True, False, True, False, False, False, False]\n",
      "Porcentagem achada: 10\n"
     ]
    }
   ],
   "source": [
    "doc = nlp('Isso custa R$5 com 10% de desconto.')\n",
    "print('Índice:', [token.i for token in doc])\n",
    "print('Texto:', [token.text for token in doc])\n",
    "print('É palavra?', [token.is_alpha for token in doc])\n",
    "print('É pontuação?' , [token.is_punct for token in doc])\n",
    "print('É número?', [token.like_num for token in doc])\n",
    "\n",
    "#Iterando os tokens\n",
    "for token in doc:\n",
    "    if token.like_num:\n",
    "        if doc[token.i + 1].text == '%':\n",
    "            print('Porcentagem achada:', token.text)"
   ]
  },
  {
   "cell_type": "markdown",
   "id": "ea7a4046-57ec-4429-a3bc-f23f1442d8b4",
   "metadata": {},
   "source": [
    "## Manipulando Tokens"
   ]
  },
  {
   "cell_type": "code",
   "execution_count": 7,
   "id": "72d64c9b-d445-4988-8839-44c0191beff9",
   "metadata": {
    "tags": []
   },
   "outputs": [
    {
     "name": "stdout",
     "output_type": "stream",
     "text": [
      "Eu\n",
      "quatro cachorros\n",
      "quatro cachorros e nenhum gato\n"
     ]
    }
   ],
   "source": [
    "doc = nlp(\"Eu tenho quatro cachorros e nenhum gato.\")\n",
    "first_token = doc[0]\n",
    "print(first_token)\n",
    "dogs_qty = doc[2:4]\n",
    "print(dogs_qty)\n",
    "dogs_cats_qty = doc[2:-1]\n",
    "print(dogs_cats_qty)"
   ]
  },
  {
   "cell_type": "markdown",
   "id": "17da39ea-b5a2-4049-a671-8208e83ea124",
   "metadata": {},
   "source": [
    "## Classes gramaticais"
   ]
  },
  {
   "cell_type": "code",
   "execution_count": 8,
   "id": "6b23ec46-60fe-4f03-8ddf-2a8866066d3b",
   "metadata": {},
   "outputs": [
    {
     "name": "stdout",
     "output_type": "stream",
     "text": [
      "Eu PRON\n",
      "comi VERB\n",
      "uma DET\n",
      "pizza NOUN\n",
      "muito ADV\n",
      "gostosa ADJ\n",
      "! PUNCT\n"
     ]
    }
   ],
   "source": [
    "nlp = pt_core_news_sm.load()\n",
    "doc = nlp(\"Eu comi uma pizza muito gostosa!\")\n",
    "for token in doc:\n",
    "    print(token.text, token.pos_)"
   ]
  },
  {
   "cell_type": "markdown",
   "id": "3a8c9b74-68e0-4c15-b819-94ec89dce4db",
   "metadata": {},
   "source": [
    "## Dependência gramatical"
   ]
  },
  {
   "cell_type": "code",
   "execution_count": 9,
   "id": "fe8f26bb-4db8-491e-87e1-119a26767a00",
   "metadata": {},
   "outputs": [
    {
     "name": "stdout",
     "output_type": "stream",
     "text": [
      "Eu PRON nsubj comi\n",
      "comi VERB ROOT comi\n",
      "uma DET advmod comi\n",
      "pizza NOUN obj comi\n",
      "muito ADV advmod gostosa\n",
      "gostosa ADJ amod pizza\n",
      "! PUNCT punct comi\n"
     ]
    }
   ],
   "source": [
    "for token in doc:\n",
    "    print(token.text, token.pos_, token.dep_, token.head.text)"
   ]
  },
  {
   "cell_type": "markdown",
   "id": "51e17a47-3d24-4461-8f8c-30bac2a9c819",
   "metadata": {},
   "source": [
    "## Reconhecimento de Entidade Mencionada"
   ]
  },
  {
   "cell_type": "code",
   "execution_count": 10,
   "id": "4c5a8d3f-66a0-479a-b8da-ba973c7ea672",
   "metadata": {},
   "outputs": [
    {
     "name": "stdout",
     "output_type": "stream",
     "text": [
      "(Queijada, Hermes, Renato)\n",
      "Queijada MISC\n",
      "Hermes MISC\n",
      "Renato PER\n"
     ]
    }
   ],
   "source": [
    "# o NER para português não funciona muito bem.\n",
    "doc = nlp('Fui na pizzaria Queijada comer uma pizza com o Hermes e o Renato.')\n",
    "print(doc.ents)\n",
    "for ent in doc.ents:\n",
    "    print(ent.text, ent.label_)"
   ]
  },
  {
   "cell_type": "code",
   "execution_count": 11,
   "id": "7da294d5-5c1c-444c-89fd-e7108d561184",
   "metadata": {},
   "outputs": [
    {
     "name": "stdout",
     "output_type": "stream",
     "text": [
      "Miscellaneous entities, e.g. events, nationalities, products or works of art\n",
      "Named person or family.\n"
     ]
    }
   ],
   "source": [
    "print (spacy.explain('MISC'))\n",
    "print(spacy.explain('PER'))"
   ]
  },
  {
   "cell_type": "markdown",
   "id": "9f8a68b4-e389-4e0b-b605-78f68f9d44af",
   "metadata": {},
   "source": [
    "## Comparando atributos"
   ]
  },
  {
   "cell_type": "code",
   "execution_count": 12,
   "id": "2bb78c4d-66fc-4c15-b0de-935a2ab31f20",
   "metadata": {},
   "outputs": [
    {
     "name": "stdout",
     "output_type": "stream",
     "text": [
      "iPhone X\n"
     ]
    }
   ],
   "source": [
    "matcher = Matcher(nlp.vocab)\n",
    "pattern = [{'TEXT':'iPhone'}, {'TEXT':'X'}]\n",
    "matcher.add('PADRAO_IPHONE', None, pattern)\n",
    "doc = nlp('O novo iPhone X é mais caro que um rim.')\n",
    "matches = matcher(doc)\n",
    "\n",
    "for match_id, start, end in matches:\n",
    "    matched_span = doc[start:end]\n",
    "    print(matched_span.text)"
   ]
  },
  {
   "cell_type": "code",
   "execution_count": 13,
   "id": "3d855bb4-5d99-437a-8ce5-9948b1250ad0",
   "metadata": {},
   "outputs": [
    {
     "name": "stdout",
     "output_type": "stream",
     "text": [
      "copa do mundo FIFA 2018\n"
     ]
    }
   ],
   "source": [
    "pattern = [{'LOWER':'copa'}, {'LOWER':'do'}, {'LOWER':'mundo'}, {'LOWER':'fifa'}, {'IS_DIGIT':True}]\n",
    "matcher.add('PADRAO_FIFA', None, pattern)\n",
    "doc = nlp('A copa do mundo FIFA 2018 é um verdadeiro caça-níquel!')\n",
    "matches = matcher(doc)\n",
    "\n",
    "for match_id, start, end in matches:\n",
    "    matched_span = doc[start:end]\n",
    "    print(matched_span.text)"
   ]
  },
  {
   "cell_type": "code",
   "execution_count": 14,
   "id": "7c638baf-435c-4da6-b2a6-615bf1b47657",
   "metadata": {},
   "outputs": [
    {
     "name": "stdout",
     "output_type": "stream",
     "text": [
      "gostava de futebol\n",
      "gosto de basquete\n"
     ]
    }
   ],
   "source": [
    "pattern = [{'LEMMA':'gostar'}, {'POS':'ADP'}, {'POS':'NOUN'}]\n",
    "matcher.add('GOSTAR_DE', None, pattern)\n",
    "doc = nlp(\"Eu gostava de futebol, mas agora eu gosto de basquete\")\n",
    "matches = matcher(doc)\n",
    "\n",
    "for match_id, start, end in matches:\n",
    "    matched_span = doc[start:end]\n",
    "    print(matched_span.text)"
   ]
  },
  {
   "cell_type": "code",
   "execution_count": 15,
   "id": "7640a8d0-9b64-415f-9712-1bac76a1dc75",
   "metadata": {},
   "outputs": [
    {
     "name": "stdout",
     "output_type": "stream",
     "text": [
      "Comprei uma pipoca\n",
      "comprar ingressos\n"
     ]
    }
   ],
   "source": [
    "pattern = [{'POS':'VERB'}, {'POS':'DET', 'OP':'?'}, {'POS':'NOUN'}]\n",
    "matcher.add('COMPRAR', None, pattern)\n",
    "doc = nlp('Comprei uma pipoca. Estou a comprar ingressos também.')\n",
    "matches = matcher(doc)\n",
    "\n",
    "for match_id, start, end in matches:\n",
    "    matched_span = doc[start:end]\n",
    "    print(matched_span.text)"
   ]
  }
 ],
 "metadata": {
  "kernelspec": {
   "display_name": "Python 3 (ipykernel)",
   "language": "python",
   "name": "python3"
  },
  "language_info": {
   "codemirror_mode": {
    "name": "ipython",
    "version": 3
   },
   "file_extension": ".py",
   "mimetype": "text/x-python",
   "name": "python",
   "nbconvert_exporter": "python",
   "pygments_lexer": "ipython3",
   "version": "3.8.11"
  }
 },
 "nbformat": 4,
 "nbformat_minor": 5
}
